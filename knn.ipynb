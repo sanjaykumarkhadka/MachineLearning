{
 "cells": [
  {
   "cell_type": "code",
   "execution_count": 31,
   "metadata": {},
   "outputs": [
    {
     "name": "stdout",
     "output_type": "stream",
     "text": [
      "[4]\n"
     ]
    }
   ],
   "source": [
    "import numpy as np\n",
    "from sklearn import preprocessing, cross_validation, neighbors\n",
    "import pandas as pd\n",
    "\n",
    "df = pd.read_csv('breast-cancer-wisconsin1.txt')\n",
    "\n",
    "df.replace('?', -99999, inplace=True)\n",
    "df.drop(['id'], 1, inplace=True)\n",
    "\n",
    "#print( df.head() )\n",
    "\n",
    "X = np.array( df.drop(['class'],1) )\n",
    "y = np.array( df['class'] )\n",
    "\n",
    "X_train , X_test, y_train, y_test = cross_validation.train_test_split(X,y, test_size=0.2 )\n",
    "\n",
    "clf = neighbors.KNeighborsClassifier(n_jobs =-1)\n",
    "clf.fit( X_train , y_train )\n",
    "\n",
    "accuracy = clf.score(X_test, y_test)\n",
    "\n",
    "#print( accuracy )\n",
    "\n",
    "example_measures = np.array([[2,7,10,10,7,10,4,9,4]])\n",
    "example_measures = example_measures.reshape(len(example_measures),-1)\n",
    "\n",
    "prediction = clf.predict(example_measures)\n",
    "print(prediction)"
   ]
  },
  {
   "cell_type": "code",
   "execution_count": null,
   "metadata": {},
   "outputs": [],
   "source": []
  },
  {
   "cell_type": "code",
   "execution_count": null,
   "metadata": {},
   "outputs": [],
   "source": []
  }
 ],
 "metadata": {
  "kernelspec": {
   "display_name": "Python 3",
   "language": "python",
   "name": "python3"
  },
  "language_info": {
   "codemirror_mode": {
    "name": "ipython",
    "version": 3
   },
   "file_extension": ".py",
   "mimetype": "text/x-python",
   "name": "python",
   "nbconvert_exporter": "python",
   "pygments_lexer": "ipython3",
   "version": "3.7.0"
  }
 },
 "nbformat": 4,
 "nbformat_minor": 2
}
